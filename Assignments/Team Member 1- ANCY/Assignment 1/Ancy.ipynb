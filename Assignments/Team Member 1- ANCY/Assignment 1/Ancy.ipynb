{
  "nbformat": 4,
  "nbformat_minor": 0,
  "metadata": {
    "colab": {
      "provenance": []
    },
    "kernelspec": {
      "name": "python3",
      "display_name": "Python 3"
    },
    "language_info": {
      "name": "python"
    }
  },
  "cells": [
    {
      "cell_type": "code",
      "execution_count": 1,
      "metadata": {
        "colab": {
          "base_uri": "https://localhost:8080/"
        },
        "id": "zfzN1D8nZd7F",
        "outputId": "18853f90-c5bc-4ca1-a1f8-8ae6bf754b82"
      },
      "outputs": [
        {
          "output_type": "stream",
          "name": "stdout",
          "text": [
            "3\n",
            "3  is a prime number \n"
          ]
        }
      ],
      "source": [
        "n=int(input())\n",
        "c=int(n/2)\n",
        "t=0\n",
        "for i in range(2,n):\n",
        "  if(n%i==0):\n",
        "    t+=1\n",
        "if(t==0):\n",
        "  print(n,\" is a prime number \")\n",
        "else:       \n",
        "  print(n,\" is Not a prime number\")"
      ]
    },
    {
      "cell_type": "code",
      "source": [
        "maximum = int(input(\" Please Enter the Maximum Value : \"))\n",
        "\n",
        "number = 1\n",
        "\n",
        "while number <= maximum:\n",
        "    if(number % 2 != 0):\n",
        "        print(\"{0}\".format(number))\n",
        "    number = number + 1"
      ],
      "metadata": {
        "colab": {
          "base_uri": "https://localhost:8080/"
        },
        "id": "w1ARzVhEZtft",
        "outputId": "5d010861-6b4c-44c3-f254-1783423a6f6b"
      },
      "execution_count": 2,
      "outputs": [
        {
          "output_type": "stream",
          "name": "stdout",
          "text": [
            " Please Enter the Maximum Value : 15\n",
            "1\n",
            "3\n",
            "5\n",
            "7\n",
            "9\n",
            "11\n",
            "13\n",
            "15\n"
          ]
        }
      ]
    },
    {
      "cell_type": "code",
      "source": [
        "def isPrime(n):\n",
        "  if(n==1 or n==0):\n",
        "    return False\n",
        "  for i in range(2,n):\n",
        "    if(n%i==0):\n",
        "      return False\n",
        "  return True\n",
        "\n",
        "N =int(input())\n",
        "for i in range(1,N+1):\n",
        "  if(isPrime(i)):\n",
        "    print(i,end=\" \")"
      ],
      "metadata": {
        "colab": {
          "base_uri": "https://localhost:8080/"
        },
        "id": "Df080dwEak1-",
        "outputId": "cf4d267c-7060-41c9-8ff1-93aaffab2c95"
      },
      "execution_count": 3,
      "outputs": [
        {
          "output_type": "stream",
          "name": "stdout",
          "text": [
            "50\n",
            "2 3 5 7 11 13 17 19 23 29 31 37 41 43 47 "
          ]
        }
      ]
    }
  ]
}